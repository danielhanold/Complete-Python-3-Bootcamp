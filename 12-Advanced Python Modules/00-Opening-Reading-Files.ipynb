{
 "cells": [
  {
   "cell_type": "code",
   "execution_count": 1,
   "metadata": {},
   "outputs": [
    {
     "data": {
      "text/plain": [
       "'/Users/danielhanold/dev/Complete-Python-3-Bootcamp/12-Advanced Python Modules'"
      ]
     },
     "execution_count": 1,
     "metadata": {},
     "output_type": "execute_result"
    }
   ],
   "source": [
    "pwd"
   ]
  },
  {
   "cell_type": "code",
   "execution_count": 5,
   "metadata": {},
   "outputs": [],
   "source": [
    "f = open('practice.txt', 'w+')\n",
    "f.write('This is a test string')\n",
    "f.close()"
   ]
  },
  {
   "cell_type": "code",
   "execution_count": null,
   "metadata": {},
   "outputs": [],
   "source": []
  },
  {
   "cell_type": "code",
   "execution_count": 6,
   "metadata": {},
   "outputs": [],
   "source": [
    "import os"
   ]
  },
  {
   "cell_type": "code",
   "execution_count": 7,
   "metadata": {},
   "outputs": [
    {
     "data": {
      "text/plain": [
       "'/Users/danielhanold/dev/Complete-Python-3-Bootcamp/12-Advanced Python Modules'"
      ]
     },
     "execution_count": 7,
     "metadata": {},
     "output_type": "execute_result"
    }
   ],
   "source": [
    "os.getcwd()"
   ]
  },
  {
   "cell_type": "code",
   "execution_count": 10,
   "metadata": {},
   "outputs": [
    {
     "data": {
      "text/plain": [
       "['Example_Top_Level',\n",
       " '08-Advanced-Python-Module-Exercise',\n",
       " 'practice.txt',\n",
       " '00-Collections.ipynb',\n",
       " '00-Collections-Module.ipynb',\n",
       " '06-Timing your code - timeit.ipynb',\n",
       " '03-Math-and-Random-Module.ipynb',\n",
       " '02-Datetime-Module.ipynb',\n",
       " '05-Overview-of-Regular-Expressions.ipynb',\n",
       " '01-Opening-and-Reading-Files-Folders.ipynb',\n",
       " '.ipynb_checkpoints',\n",
       " '00-Opening-Reading-Files.ipynb',\n",
       " '04-Python Debugger (pdb).ipynb',\n",
       " '00-DateTime.ipynb',\n",
       " '07-Unzipping-and-Zipping-Files.ipynb']"
      ]
     },
     "execution_count": 10,
     "metadata": {},
     "output_type": "execute_result"
    }
   ],
   "source": [
    "os.listdir()"
   ]
  },
  {
   "cell_type": "code",
   "execution_count": 11,
   "metadata": {},
   "outputs": [
    {
     "data": {
      "text/plain": [
       "['.subgit',\n",
       " '.fastlane',\n",
       " '.config',\n",
       " 'Music',\n",
       " '.zcompdump.dhanold-mbp15.local.83615',\n",
       " '.expo',\n",
       " '.vimundo',\n",
       " '.condarc',\n",
       " 'Dropbox (Personal)',\n",
       " '.docker',\n",
       " '.vault_pass.txt',\n",
       " '.node-gyp',\n",
       " '.my.cnf.backup',\n",
       " '.vim',\n",
       " '.DS_Store',\n",
       " 'VirtualBox VMs',\n",
       " '.CFUserTextEncoding',\n",
       " '.tooling',\n",
       " 'bin',\n",
       " '.rbenv',\n",
       " '.vimswap',\n",
       " '.vagrant.d',\n",
       " '.netrc',\n",
       " '.subversion',\n",
       " '.dbk_info',\n",
       " '.vnc',\n",
       " '.ops_vault_pass.txt',\n",
       " '.ecr',\n",
       " '.zshrc.pre-oh-my-zsh',\n",
       " '.zshrc',\n",
       " '.CF89AA64',\n",
       " '.ansiweatherrc',\n",
       " '.local',\n",
       " 'Pictures',\n",
       " '.pylint.d',\n",
       " '.shell.pre-oh-my-zsh',\n",
       " '.nvm',\n",
       " '.bundle',\n",
       " 'Postman',\n",
       " '.phpls',\n",
       " '.zsh_history',\n",
       " '.ipython',\n",
       " '.iterm2_shell_integration.zsh',\n",
       " '.vs-kubernetes',\n",
       " 'Desktop',\n",
       " 'Library',\n",
       " '.matplotlib',\n",
       " '.lesshst',\n",
       " '.oracle_jre_usage',\n",
       " '.emulator_console_auth_token',\n",
       " '.spyder-py3',\n",
       " '.IdentityService',\n",
       " '.minikube',\n",
       " '.cargo',\n",
       " '.android',\n",
       " '.pgAdmin4.startup.log',\n",
       " '.pgadmin',\n",
       " '.cocoapods',\n",
       " '.cups',\n",
       " '.bash_sessions',\n",
       " '.vimrc.local',\n",
       " 'Public',\n",
       " '.dropbox',\n",
       " 'Sandbox',\n",
       " '.kube',\n",
       " '.redisinsight',\n",
       " '.ansible',\n",
       " '.anaconda',\n",
       " '.zcompdump-dhanold-mbp15-5.8',\n",
       " '.ssh',\n",
       " '.vim_mru_files',\n",
       " 'Movies',\n",
       " '.vimviews',\n",
       " '.vimrc',\n",
       " 'Applications',\n",
       " '.dbshell',\n",
       " '.gradle',\n",
       " '.Trash',\n",
       " 'dev',\n",
       " '.react-native-cli',\n",
       " 'IdeaProjects',\n",
       " '.tldrc',\n",
       " '.jupyter',\n",
       " '.zcompdump',\n",
       " '.npm',\n",
       " 'Documents',\n",
       " '.srl',\n",
       " '.zcompdump-dhanold-mbp15-5.7.1',\n",
       " '.vimrc.before',\n",
       " '.babel.json',\n",
       " '.vimbackup',\n",
       " '.mysql_history',\n",
       " '.mono',\n",
       " '.vscode',\n",
       " '.bash_profile',\n",
       " '.gem',\n",
       " '.kite',\n",
       " '.vim_runtime',\n",
       " '.oh-my-zsh',\n",
       " '.rediscli_history',\n",
       " 'Downloads',\n",
       " '.python_history',\n",
       " '.circleci',\n",
       " '.cache',\n",
       " '.aws',\n",
       " '.gitconfig',\n",
       " '.mume',\n",
       " '.mongorc.js',\n",
       " '.bash_history',\n",
       " '.viminfo',\n",
       " '.azure',\n",
       " '.conda',\n",
       " '.composer']"
      ]
     },
     "execution_count": 11,
     "metadata": {},
     "output_type": "execute_result"
    }
   ],
   "source": [
    "os.listdir('/Users/danielhanold')"
   ]
  },
  {
   "cell_type": "code",
   "execution_count": null,
   "metadata": {},
   "outputs": [],
   "source": []
  },
  {
   "cell_type": "code",
   "execution_count": 12,
   "metadata": {},
   "outputs": [],
   "source": [
    "import shutil"
   ]
  },
  {
   "cell_type": "code",
   "execution_count": 13,
   "metadata": {},
   "outputs": [
    {
     "data": {
      "text/plain": [
       "'/Users/danielhanold/practice.txt'"
      ]
     },
     "execution_count": 13,
     "metadata": {},
     "output_type": "execute_result"
    }
   ],
   "source": [
    "shutil.move('practice.txt', '/Users/danielhanold')"
   ]
  },
  {
   "cell_type": "code",
   "execution_count": 14,
   "metadata": {},
   "outputs": [
    {
     "data": {
      "text/plain": [
       "['.subgit',\n",
       " '.fastlane',\n",
       " '.config',\n",
       " 'Music',\n",
       " '.zcompdump.dhanold-mbp15.local.83615',\n",
       " '.expo',\n",
       " '.vimundo',\n",
       " '.condarc',\n",
       " 'Dropbox (Personal)',\n",
       " '.docker',\n",
       " '.vault_pass.txt',\n",
       " '.node-gyp',\n",
       " '.my.cnf.backup',\n",
       " '.vim',\n",
       " '.DS_Store',\n",
       " 'VirtualBox VMs',\n",
       " '.CFUserTextEncoding',\n",
       " '.tooling',\n",
       " 'bin',\n",
       " '.rbenv',\n",
       " '.vimswap',\n",
       " '.vagrant.d',\n",
       " '.netrc',\n",
       " '.subversion',\n",
       " '.dbk_info',\n",
       " '.vnc',\n",
       " '.ops_vault_pass.txt',\n",
       " '.ecr',\n",
       " '.zshrc.pre-oh-my-zsh',\n",
       " '.zshrc',\n",
       " '.CF89AA64',\n",
       " '.ansiweatherrc',\n",
       " '.local',\n",
       " 'Pictures',\n",
       " '.pylint.d',\n",
       " '.shell.pre-oh-my-zsh',\n",
       " '.nvm',\n",
       " '.bundle',\n",
       " 'practice.txt',\n",
       " 'Postman',\n",
       " '.phpls',\n",
       " '.zsh_history',\n",
       " '.ipython',\n",
       " '.iterm2_shell_integration.zsh',\n",
       " '.vs-kubernetes',\n",
       " 'Desktop',\n",
       " 'Library',\n",
       " '.matplotlib',\n",
       " '.lesshst',\n",
       " '.oracle_jre_usage',\n",
       " '.emulator_console_auth_token',\n",
       " '.spyder-py3',\n",
       " '.IdentityService',\n",
       " '.minikube',\n",
       " '.cargo',\n",
       " '.android',\n",
       " '.pgAdmin4.startup.log',\n",
       " '.pgadmin',\n",
       " '.cocoapods',\n",
       " '.cups',\n",
       " '.bash_sessions',\n",
       " '.vimrc.local',\n",
       " 'Public',\n",
       " '.dropbox',\n",
       " 'Sandbox',\n",
       " '.kube',\n",
       " '.redisinsight',\n",
       " '.ansible',\n",
       " '.anaconda',\n",
       " '.zcompdump-dhanold-mbp15-5.8',\n",
       " '.ssh',\n",
       " '.vim_mru_files',\n",
       " 'Movies',\n",
       " '.vimviews',\n",
       " '.vimrc',\n",
       " 'Applications',\n",
       " '.dbshell',\n",
       " '.gradle',\n",
       " '.Trash',\n",
       " 'dev',\n",
       " '.react-native-cli',\n",
       " 'IdeaProjects',\n",
       " '.tldrc',\n",
       " '.jupyter',\n",
       " '.zcompdump',\n",
       " '.npm',\n",
       " 'Documents',\n",
       " '.srl',\n",
       " '.zcompdump-dhanold-mbp15-5.7.1',\n",
       " '.vimrc.before',\n",
       " '.babel.json',\n",
       " '.vimbackup',\n",
       " '.mysql_history',\n",
       " '.mono',\n",
       " '.vscode',\n",
       " '.bash_profile',\n",
       " '.gem',\n",
       " '.kite',\n",
       " '.vim_runtime',\n",
       " '.oh-my-zsh',\n",
       " '.rediscli_history',\n",
       " 'Downloads',\n",
       " '.python_history',\n",
       " '.circleci',\n",
       " '.cache',\n",
       " '.aws',\n",
       " '.gitconfig',\n",
       " '.mume',\n",
       " '.mongorc.js',\n",
       " '.bash_history',\n",
       " '.viminfo',\n",
       " '.azure',\n",
       " '.conda',\n",
       " '.composer']"
      ]
     },
     "execution_count": 14,
     "metadata": {},
     "output_type": "execute_result"
    }
   ],
   "source": [
    "os.listdir('/Users/danielhanold')"
   ]
  },
  {
   "cell_type": "code",
   "execution_count": null,
   "metadata": {},
   "outputs": [],
   "source": []
  },
  {
   "cell_type": "code",
   "execution_count": 15,
   "metadata": {},
   "outputs": [],
   "source": [
    "import send2trash"
   ]
  },
  {
   "cell_type": "code",
   "execution_count": 18,
   "metadata": {},
   "outputs": [
    {
     "data": {
      "text/plain": [
       "['Example_Top_Level',\n",
       " '08-Advanced-Python-Module-Exercise',\n",
       " 'practice.txt',\n",
       " '00-Collections.ipynb',\n",
       " '00-Collections-Module.ipynb',\n",
       " '06-Timing your code - timeit.ipynb',\n",
       " '03-Math-and-Random-Module.ipynb',\n",
       " '02-Datetime-Module.ipynb',\n",
       " '05-Overview-of-Regular-Expressions.ipynb',\n",
       " '01-Opening-and-Reading-Files-Folders.ipynb',\n",
       " '.ipynb_checkpoints',\n",
       " '00-Opening-Reading-Files.ipynb',\n",
       " '04-Python Debugger (pdb).ipynb',\n",
       " '00-DateTime.ipynb',\n",
       " '07-Unzipping-and-Zipping-Files.ipynb']"
      ]
     },
     "execution_count": 18,
     "metadata": {},
     "output_type": "execute_result"
    }
   ],
   "source": [
    "os.listdir()"
   ]
  },
  {
   "cell_type": "code",
   "execution_count": 17,
   "metadata": {},
   "outputs": [
    {
     "data": {
      "text/plain": [
       "'/Users/danielhanold/dev/Complete-Python-3-Bootcamp/12-Advanced Python Modules/practice.txt'"
      ]
     },
     "execution_count": 17,
     "metadata": {},
     "output_type": "execute_result"
    }
   ],
   "source": [
    "shutil.move('/Users/danielhanold/practice.txt', os.getcwd())"
   ]
  },
  {
   "cell_type": "code",
   "execution_count": 19,
   "metadata": {},
   "outputs": [],
   "source": [
    "send2trash.send2trash('practice.txt')"
   ]
  },
  {
   "cell_type": "code",
   "execution_count": 20,
   "metadata": {},
   "outputs": [
    {
     "data": {
      "text/plain": [
       "['Example_Top_Level',\n",
       " '08-Advanced-Python-Module-Exercise',\n",
       " '00-Collections.ipynb',\n",
       " '00-Collections-Module.ipynb',\n",
       " '06-Timing your code - timeit.ipynb',\n",
       " '03-Math-and-Random-Module.ipynb',\n",
       " '02-Datetime-Module.ipynb',\n",
       " '05-Overview-of-Regular-Expressions.ipynb',\n",
       " '01-Opening-and-Reading-Files-Folders.ipynb',\n",
       " '.ipynb_checkpoints',\n",
       " '00-Opening-Reading-Files.ipynb',\n",
       " '04-Python Debugger (pdb).ipynb',\n",
       " '00-DateTime.ipynb',\n",
       " '07-Unzipping-and-Zipping-Files.ipynb']"
      ]
     },
     "execution_count": 20,
     "metadata": {},
     "output_type": "execute_result"
    }
   ],
   "source": [
    "os.listdir()"
   ]
  },
  {
   "cell_type": "code",
   "execution_count": null,
   "metadata": {},
   "outputs": [],
   "source": []
  },
  {
   "cell_type": "code",
   "execution_count": null,
   "metadata": {},
   "outputs": [],
   "source": []
  },
  {
   "cell_type": "code",
   "execution_count": 21,
   "metadata": {},
   "outputs": [
    {
     "data": {
      "text/plain": [
       "<generator object walk at 0x7fdf582c98d0>"
      ]
     },
     "execution_count": 21,
     "metadata": {},
     "output_type": "execute_result"
    }
   ],
   "source": [
    "os.walk(os.getcwd())"
   ]
  },
  {
   "cell_type": "code",
   "execution_count": 23,
   "metadata": {},
   "outputs": [
    {
     "data": {
      "text/plain": [
       "'/Users/danielhanold/dev/Complete-Python-3-Bootcamp/12-Advanced Python Modules'"
      ]
     },
     "execution_count": 23,
     "metadata": {},
     "output_type": "execute_result"
    }
   ],
   "source": [
    "os.getcwd()"
   ]
  },
  {
   "cell_type": "code",
   "execution_count": 24,
   "metadata": {},
   "outputs": [],
   "source": [
    "file_path = '/Users/danielhanold/dev/Complete-Python-3-Bootcamp/12-Advanced Python Modules/Example_Top_Level'"
   ]
  },
  {
   "cell_type": "code",
   "execution_count": 25,
   "metadata": {},
   "outputs": [
    {
     "data": {
      "text/plain": [
       "'/Users/danielhanold/dev/Complete-Python-3-Bootcamp/12-Advanced Python Modules/Example_Top_Level'"
      ]
     },
     "execution_count": 25,
     "metadata": {},
     "output_type": "execute_result"
    }
   ],
   "source": [
    "file_path"
   ]
  },
  {
   "cell_type": "code",
   "execution_count": 35,
   "metadata": {},
   "outputs": [
    {
     "name": "stdout",
     "output_type": "stream",
     "text": [
      "\n",
      "\n",
      "Currently looking at /Users/danielhanold/dev/Complete-Python-3-Bootcamp/12-Advanced Python Modules/Example_Top_Level\n",
      "The subfolders are: \n",
      "\t Subfolder: Mid-Example-One\n",
      "The files are: \n",
      "\t\tFile: ['Mid-Example.txt']\n",
      "\n",
      "\n",
      "Currently looking at /Users/danielhanold/dev/Complete-Python-3-Bootcamp/12-Advanced Python Modules/Example_Top_Level/Mid-Example-One\n",
      "The subfolders are: \n",
      "\t Subfolder: Bottom-Level-Two\n",
      "\t Subfolder: Bottom-Level-One\n",
      "The files are: \n",
      "\t\tFile: ['Mid-Level-Doc.txt']\n",
      "\n",
      "\n",
      "Currently looking at /Users/danielhanold/dev/Complete-Python-3-Bootcamp/12-Advanced Python Modules/Example_Top_Level/Mid-Example-One/Bottom-Level-Two\n",
      "The subfolders are: \n",
      "The files are: \n",
      "\t\tFile: ['Bottom-Text-Two.txt']\n",
      "\n",
      "\n",
      "Currently looking at /Users/danielhanold/dev/Complete-Python-3-Bootcamp/12-Advanced Python Modules/Example_Top_Level/Mid-Example-One/Bottom-Level-One\n",
      "The subfolders are: \n",
      "The files are: \n",
      "\t\tFile: ['One_Text.txt']\n"
     ]
    }
   ],
   "source": [
    "for folder, sub_folders, files in os.walk(file_path):\n",
    "    print('\\n')\n",
    "    print(\"Currently looking at {}\".format(folder))\n",
    "    print('The subfolders are: ')\n",
    "    for sub_fold in sub_folders:\n",
    "        print('\\t Subfolder: {}'.format(sub_fold))\n",
    "    \n",
    "    print('The files are: ')\n",
    "    for f in files:\n",
    "        print('\\t\\tFile: {}'.format(files))"
   ]
  },
  {
   "cell_type": "code",
   "execution_count": null,
   "metadata": {},
   "outputs": [],
   "source": []
  }
 ],
 "metadata": {
  "kernelspec": {
   "display_name": "Python 3",
   "language": "python",
   "name": "python3"
  },
  "language_info": {
   "codemirror_mode": {
    "name": "ipython",
    "version": 3
   },
   "file_extension": ".py",
   "mimetype": "text/x-python",
   "name": "python",
   "nbconvert_exporter": "python",
   "pygments_lexer": "ipython3",
   "version": "3.7.6"
  }
 },
 "nbformat": 4,
 "nbformat_minor": 4
}
